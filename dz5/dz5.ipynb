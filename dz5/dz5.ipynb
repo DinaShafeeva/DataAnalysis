{
 "cells": [
  {
   "cell_type": "code",
   "execution_count": 22,
   "metadata": {},
   "outputs": [],
   "source": [
    "import numpy as np\n",
    "import pandas as pd\n",
    "from sklearn.model_selection import cross_val_score\n",
    "from sklearn.model_selection import train_test_split\n",
    "from sklearn.tree import DecisionTreeClassifier\n",
    "from sklearn.metrics import accuracy_score\n",
    "from sklearn.model_selection import KFold\n",
    "from sklearn.model_selection import GridSearchCV"
   ]
  },
  {
   "cell_type": "code",
   "execution_count": 2,
   "metadata": {},
   "outputs": [
    {
     "data": {
      "text/html": [
       "<div>\n",
       "<style scoped>\n",
       "    .dataframe tbody tr th:only-of-type {\n",
       "        vertical-align: middle;\n",
       "    }\n",
       "\n",
       "    .dataframe tbody tr th {\n",
       "        vertical-align: top;\n",
       "    }\n",
       "\n",
       "    .dataframe thead th {\n",
       "        text-align: right;\n",
       "    }\n",
       "</style>\n",
       "<table border=\"1\" class=\"dataframe\">\n",
       "  <thead>\n",
       "    <tr style=\"text-align: right;\">\n",
       "      <th></th>\n",
       "      <th>ID</th>\n",
       "      <th>DemAffl</th>\n",
       "      <th>DemAge</th>\n",
       "      <th>DemCluster</th>\n",
       "      <th>DemClusterGroup</th>\n",
       "      <th>DemGender</th>\n",
       "      <th>DemReg</th>\n",
       "      <th>DemTVReg</th>\n",
       "      <th>PromClass</th>\n",
       "      <th>PromSpend</th>\n",
       "      <th>PromTime</th>\n",
       "      <th>TargetBuy</th>\n",
       "      <th>TargetAmt</th>\n",
       "    </tr>\n",
       "  </thead>\n",
       "  <tbody>\n",
       "    <tr>\n",
       "      <td>0</td>\n",
       "      <td>140</td>\n",
       "      <td>10.0</td>\n",
       "      <td>76.0</td>\n",
       "      <td>16.0</td>\n",
       "      <td>C</td>\n",
       "      <td>U</td>\n",
       "      <td>Midlands</td>\n",
       "      <td>Wales &amp; West</td>\n",
       "      <td>Gold</td>\n",
       "      <td>16000.00</td>\n",
       "      <td>4.0</td>\n",
       "      <td>0</td>\n",
       "      <td>0</td>\n",
       "    </tr>\n",
       "    <tr>\n",
       "      <td>1</td>\n",
       "      <td>620</td>\n",
       "      <td>4.0</td>\n",
       "      <td>49.0</td>\n",
       "      <td>35.0</td>\n",
       "      <td>D</td>\n",
       "      <td>U</td>\n",
       "      <td>Midlands</td>\n",
       "      <td>Wales &amp; West</td>\n",
       "      <td>Gold</td>\n",
       "      <td>6000.00</td>\n",
       "      <td>5.0</td>\n",
       "      <td>0</td>\n",
       "      <td>0</td>\n",
       "    </tr>\n",
       "    <tr>\n",
       "      <td>2</td>\n",
       "      <td>868</td>\n",
       "      <td>5.0</td>\n",
       "      <td>70.0</td>\n",
       "      <td>27.0</td>\n",
       "      <td>D</td>\n",
       "      <td>F</td>\n",
       "      <td>Midlands</td>\n",
       "      <td>Wales &amp; West</td>\n",
       "      <td>Silver</td>\n",
       "      <td>0.02</td>\n",
       "      <td>8.0</td>\n",
       "      <td>1</td>\n",
       "      <td>1</td>\n",
       "    </tr>\n",
       "    <tr>\n",
       "      <td>3</td>\n",
       "      <td>1120</td>\n",
       "      <td>10.0</td>\n",
       "      <td>65.0</td>\n",
       "      <td>51.0</td>\n",
       "      <td>F</td>\n",
       "      <td>M</td>\n",
       "      <td>Midlands</td>\n",
       "      <td>Midlands</td>\n",
       "      <td>Tin</td>\n",
       "      <td>0.01</td>\n",
       "      <td>7.0</td>\n",
       "      <td>1</td>\n",
       "      <td>1</td>\n",
       "    </tr>\n",
       "    <tr>\n",
       "      <td>4</td>\n",
       "      <td>2313</td>\n",
       "      <td>11.0</td>\n",
       "      <td>68.0</td>\n",
       "      <td>4.0</td>\n",
       "      <td>A</td>\n",
       "      <td>F</td>\n",
       "      <td>Midlands</td>\n",
       "      <td>Midlands</td>\n",
       "      <td>Tin</td>\n",
       "      <td>0.01</td>\n",
       "      <td>8.0</td>\n",
       "      <td>0</td>\n",
       "      <td>0</td>\n",
       "    </tr>\n",
       "  </tbody>\n",
       "</table>\n",
       "</div>"
      ],
      "text/plain": [
       "     ID  DemAffl  DemAge  DemCluster DemClusterGroup DemGender    DemReg  \\\n",
       "0   140     10.0    76.0        16.0               C         U  Midlands   \n",
       "1   620      4.0    49.0        35.0               D         U  Midlands   \n",
       "2   868      5.0    70.0        27.0               D         F  Midlands   \n",
       "3  1120     10.0    65.0        51.0               F         M  Midlands   \n",
       "4  2313     11.0    68.0         4.0               A         F  Midlands   \n",
       "\n",
       "       DemTVReg PromClass  PromSpend  PromTime  TargetBuy  TargetAmt  \n",
       "0  Wales & West      Gold   16000.00       4.0          0          0  \n",
       "1  Wales & West      Gold    6000.00       5.0          0          0  \n",
       "2  Wales & West    Silver       0.02       8.0          1          1  \n",
       "3      Midlands       Tin       0.01       7.0          1          1  \n",
       "4      Midlands       Tin       0.01       8.0          0          0  "
      ]
     },
     "execution_count": 2,
     "metadata": {},
     "output_type": "execute_result"
    }
   ],
   "source": [
    "data = pd.read_csv('C:/Users/Len/Downloads/DATA-ANALYSYS_2-master (1)/DATA-ANALYSYS_2-master/Dataset/ORGANICS.csv', delimiter=',')\n",
    "data.head()"
   ]
  },
  {
   "cell_type": "code",
   "execution_count": 5,
   "metadata": {},
   "outputs": [
    {
     "name": "stdout",
     "output_type": "stream",
     "text": [
      "<class 'pandas.core.frame.DataFrame'>\n",
      "RangeIndex: 22223 entries, 0 to 22222\n",
      "Data columns (total 13 columns):\n",
      "ID                 22223 non-null int64\n",
      "DemAffl            22223 non-null float64\n",
      "DemAge             22223 non-null float64\n",
      "DemCluster         22223 non-null float64\n",
      "DemClusterGroup    21549 non-null object\n",
      "DemGender          19711 non-null object\n",
      "DemReg             21758 non-null object\n",
      "DemTVReg           21758 non-null object\n",
      "PromClass          22223 non-null object\n",
      "PromSpend          22223 non-null float64\n",
      "PromTime           22223 non-null float64\n",
      "TargetBuy          22223 non-null int64\n",
      "TargetAmt          22223 non-null int64\n",
      "dtypes: float64(5), int64(3), object(5)\n",
      "memory usage: 2.2+ MB\n"
     ]
    }
   ],
   "source": [
    "data = data.fillna(data.mean())\n",
    "data.info()"
   ]
  },
  {
   "cell_type": "code",
   "execution_count": 6,
   "metadata": {},
   "outputs": [],
   "source": [
    "x=data[['DemAffl',  'DemAge', 'DemCluster', 'PromSpend', 'PromTime']]\n",
    "y=data['TargetBuy']\n",
    "y=y.astype('int')"
   ]
  },
  {
   "cell_type": "code",
   "execution_count": 8,
   "metadata": {},
   "outputs": [],
   "source": [
    "X_train, X_test, y_train, y_test = train_test_split(x, y, test_size=0.3)"
   ]
  },
  {
   "cell_type": "code",
   "execution_count": 9,
   "metadata": {},
   "outputs": [
    {
     "data": {
      "text/plain": [
       "DecisionTreeClassifier(class_weight=None, criterion='gini', max_depth=5,\n",
       "                       max_features=None, max_leaf_nodes=None,\n",
       "                       min_impurity_decrease=0.0, min_impurity_split=None,\n",
       "                       min_samples_leaf=1, min_samples_split=2,\n",
       "                       min_weight_fraction_leaf=0.0, presort=False,\n",
       "                       random_state=1, splitter='best')"
      ]
     },
     "execution_count": 9,
     "metadata": {},
     "output_type": "execute_result"
    }
   ],
   "source": [
    "tree=DecisionTreeClassifier(max_depth=5, random_state=1, min_samples_leaf = 1)\n",
    "tree.fit(X_train, y_train)"
   ]
  },
  {
   "cell_type": "code",
   "execution_count": 12,
   "metadata": {},
   "outputs": [
    {
     "name": "stdout",
     "output_type": "stream",
     "text": [
      "Правильные ответы на обучающей выборке:  0.8025842118796606\n"
     ]
    }
   ],
   "source": [
    "y_pred_train = tree.predict(X_train)\n",
    "print(\"Правильные ответы на обучающей выборке: \", accuracy_score(y_pred_train, y_train))"
   ]
  },
  {
   "cell_type": "code",
   "execution_count": 13,
   "metadata": {},
   "outputs": [
    {
     "name": "stdout",
     "output_type": "stream",
     "text": [
      "Правильные ответы на тестовой выборке:  0.792560371981401\n"
     ]
    }
   ],
   "source": [
    "y_pred_test = tree.predict(X_test)\n",
    "print(\"Правильные ответы на тестовой выборке: \", accuracy_score(y_pred_test, y_test))"
   ]
  },
  {
   "cell_type": "code",
   "execution_count": 18,
   "metadata": {},
   "outputs": [
    {
     "name": "stdout",
     "output_type": "stream",
     "text": [
      "Правильность перекрестной проверки:\n",
      "[0.79127305 0.79982006 0.80476833 0.80783078 0.80873087 0.79387939\n",
      " 0.78577858 0.80108011 0.80738074 0.79522952]\n"
     ]
    }
   ],
   "source": [
    "kfold = KFold(n_splits=10)\n",
    "print(\"Значение правильности перекрестной проверки:\\n{}\".format(\n",
    "      cross_val_score(tree, x, y, cv=kfold)))"
   ]
  },
  {
   "cell_type": "code",
   "execution_count": 21,
   "metadata": {},
   "outputs": [
    {
     "name": "stdout",
     "output_type": "stream",
     "text": [
      "Правильности перекрестной проверки:\n",
      "[0.80183585 0.80359071 0.79424868]\n"
     ]
    }
   ],
   "source": [
    "kfold = KFold(n_splits=3, shuffle=True, random_state=0)\n",
    "print(\"Значение правильности перекрестной проверки:\\n{}\".format(\n",
    "    cross_val_score(tree, x, y, cv=kfold)))"
   ]
  },
  {
   "cell_type": "code",
   "execution_count": 24,
   "metadata": {},
   "outputs": [],
   "source": [
    "gs = GridSearchCV(DecisionTreeClassifier(random_state=13),\n",
    "                  param_grid = {'max_depth' : [3, 4, 5, 6, 7, 8, 9, 10, None],\n",
    "                                'max_features' : ['auto', 'log2', None],\n",
    "                                'min_samples_leaf' : range(1, 10),\n",
    "                                'min_samples_split' : range(2, 10),\n",
    "                                'criterion' : ['gini', 'entropy']},\n",
    "                  cv=5, scoring='accuracy'\n",
    "                  ).fit(X_train, y_train)"
   ]
  },
  {
   "cell_type": "code",
   "execution_count": 25,
   "metadata": {},
   "outputs": [
    {
     "name": "stdout",
     "output_type": "stream",
     "text": [
      "Оптимальные параметры модели:\n",
      "{'criterion': 'gini', 'max_depth': 4, 'max_features': None, 'min_samples_leaf': 3, 'min_samples_split': 2}\n"
     ]
    }
   ],
   "source": [
    "print(\"Оптимальные параметры модели:\\n{}\".format(gs.best_params_))"
   ]
  },
  {
   "cell_type": "code",
   "execution_count": 26,
   "metadata": {},
   "outputs": [
    {
     "name": "stdout",
     "output_type": "stream",
     "text": [
      "Лучшее усредненное значение доли правильных ответов: 0.80\n"
     ]
    }
   ],
   "source": [
    "print(\"Лучшее усредненное значение доли правильных ответов: {:.2f}\".format(gs.best_score_))"
   ]
  }
 ],
 "metadata": {
  "kernelspec": {
   "display_name": "Python 3",
   "language": "python",
   "name": "python3"
  },
  "language_info": {
   "codemirror_mode": {
    "name": "ipython",
    "version": 3
   },
   "file_extension": ".py",
   "mimetype": "text/x-python",
   "name": "python",
   "nbconvert_exporter": "python",
   "pygments_lexer": "ipython3",
   "version": "3.7.4"
  }
 },
 "nbformat": 4,
 "nbformat_minor": 2
}
