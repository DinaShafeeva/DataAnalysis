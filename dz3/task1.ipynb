{
 "cells": [
  {
   "cell_type": "code",
   "execution_count": 1,
   "metadata": {},
   "outputs": [],
   "source": [
    "import numpy as np\n",
    "import pandas as pd\n",
    "import pylab as pl\n",
    "import matplotlib.pyplot as plt\n",
    "plt.style.use('ggplot')\n",
    "%matplotlib inline\n",
    "import seaborn as sns\n"
   ]
  },
  {
   "cell_type": "code",
   "execution_count": 123,
   "metadata": {},
   "outputs": [
    {
     "name": "stdout",
     "output_type": "stream",
     "text": [
      "(22223, 13)\n",
      "<class 'pandas.core.frame.DataFrame'>\n",
      "RangeIndex: 22223 entries, 0 to 22222\n",
      "Data columns (total 13 columns):\n",
      "ID                 22223 non-null int64\n",
      "DemAffl            22223 non-null float64\n",
      "DemAge             22223 non-null float64\n",
      "DemCluster         22223 non-null float64\n",
      "DemClusterGroup    22223 non-null object\n",
      "DemGender          22223 non-null object\n",
      "DemReg             22223 non-null object\n",
      "DemTVReg           22223 non-null object\n",
      "PromClass          22223 non-null object\n",
      "PromSpend          22223 non-null float64\n",
      "PromTime           22223 non-null float64\n",
      "TargetBuy          22223 non-null float64\n",
      "TargetAmt          22223 non-null float64\n",
      "dtypes: float64(7), int64(1), object(5)\n",
      "memory usage: 2.2+ MB\n",
      "None\n"
     ]
    }
   ],
   "source": [
    "nan_values = ['NO CLUE', 'N/A', '0', 'non-null', 'NaN']\n",
    "\n",
    "df = pd.read_csv('C:/Users/Len/Downloads/DATA-ANALYSYS_2-master (1)/DATA-ANALYSYS_2-master/Dataset/ORGANICS.csv', \n",
    "                 delimiter=',', na_values=nan_values)\n",
    "df = df.fillna(0)\n",
    "print(df.shape) \n",
    "print(df.info())"
   ]
  },
  {
   "cell_type": "code",
   "execution_count": 110,
   "metadata": {},
   "outputs": [
    {
     "name": "stdout",
     "output_type": "stream",
     "text": [
      "             ID  DemAffl  DemAge  DemCluster DemClusterGroup DemGender  \\\n",
      "0           140     10.0    76.0        16.0               C         U   \n",
      "1           620      4.0    49.0        35.0               D         U   \n",
      "2           868      5.0    70.0        27.0               D         F   \n",
      "3          1120     10.0    65.0        51.0               F         M   \n",
      "4          2313     11.0    68.0         4.0               A         F   \n",
      "...         ...      ...     ...         ...             ...       ...   \n",
      "22218  52834058     13.0    65.0         9.0               B         F   \n",
      "22219  52834376     15.0    73.0        34.0               D         U   \n",
      "22220  52837057      9.0    70.0        15.0               B         F   \n",
      "22221  52838096     11.0    66.0         8.0               B         F   \n",
      "22222  52856469      3.0    75.0        53.0               F       NaN   \n",
      "\n",
      "           DemReg      DemTVReg PromClass  PromSpend  PromTime  TargetBuy  \\\n",
      "0        Midlands  Wales & West      Gold   16000.00       4.0          0   \n",
      "1        Midlands  Wales & West      Gold    6000.00       5.0          0   \n",
      "2        Midlands  Wales & West    Silver       0.02       8.0          1   \n",
      "3        Midlands      Midlands       Tin       0.01       7.0          1   \n",
      "4        Midlands      Midlands       Tin       0.01       8.0          0   \n",
      "...           ...           ...       ...        ...       ...        ...   \n",
      "22218  South East        London    Silver    1500.00       5.0          0   \n",
      "22219  South East    S & S East      Gold    6053.06      12.0          0   \n",
      "22220       North     Yorkshire      Gold    6000.00       5.0          0   \n",
      "22221       North        N West    Silver    5000.00       5.0          0   \n",
      "22222  South West        S West      Gold    6000.00       2.0          0   \n",
      "\n",
      "       TargetAmt  \n",
      "0              0  \n",
      "1              0  \n",
      "2              1  \n",
      "3              1  \n",
      "4              0  \n",
      "...          ...  \n",
      "22218          0  \n",
      "22219          0  \n",
      "22220          0  \n",
      "22221          0  \n",
      "22222          0  \n",
      "\n",
      "[22223 rows x 13 columns]\n"
     ]
    }
   ],
   "source": [
    "df = df.fillna(df.mean())\n",
    "print(df)"
   ]
  },
  {
   "cell_type": "code",
   "execution_count": 127,
   "metadata": {},
   "outputs": [],
   "source": [
    "x=df[['DemAffl',  'DemAge', 'DemCluster', 'PromSpend', 'PromTime']]\n",
    "y=df['TargetBuy']\n",
    "y=y.astype('int')\n"
   ]
  },
  {
   "cell_type": "code",
   "execution_count": 128,
   "metadata": {},
   "outputs": [],
   "source": [
    "from sklearn.model_selection import train_test_split\n",
    "X_train, X_test, y_train, y_test = train_test_split(x, y, test_size=0.3)\n"
   ]
  },
  {
   "cell_type": "code",
   "execution_count": 105,
   "metadata": {},
   "outputs": [
    {
     "data": {
      "text/plain": [
       "DecisionTreeClassifier(class_weight=None, criterion='entropy', max_depth=5,\n",
       "                       max_features=None, max_leaf_nodes=None,\n",
       "                       min_impurity_decrease=0.0, min_impurity_split=None,\n",
       "                       min_samples_leaf=1, min_samples_split=2,\n",
       "                       min_weight_fraction_leaf=0.0, presort=False,\n",
       "                       random_state=None, splitter='best')"
      ]
     },
     "execution_count": 105,
     "metadata": {},
     "output_type": "execute_result"
    }
   ],
   "source": [
    "from sklearn.tree import DecisionTreeClassifier\n",
    "tree=DecisionTreeClassifier(criterion='entropy',max_depth=5)\n",
    "tree.fit(X_train, y_train)\n"
   ]
  },
  {
   "cell_type": "code",
   "execution_count": 124,
   "metadata": {},
   "outputs": [],
   "source": [
    "from sklearn.tree import export_graphviz\n",
    "\n",
    "import subprocess\n",
    "import pydot \n",
    "\n",
    "export_graphviz(tree, out_file='C:/Users/Len/Desktop/DataAnalysis/Organics_tree.dot', \n",
    "               rounded = True, proportion = False, \n",
    "                precision = 2, filled = True)\n",
    "\n",
    "\n",
    "(graph, ) = pydot.graph_from_dot_file('C:/Users/Len/Desktop/DataAnalysis/Organics_tree.dot')\n",
    "\n",
    "graph.write_png('C:/Users/Len/Desktop/DataAnalysis/Organics_tree.png')\n"
   ]
  },
  {
   "cell_type": "code",
   "execution_count": 94,
   "metadata": {},
   "outputs": [
    {
     "name": "stdout",
     "output_type": "stream",
     "text": [
      "0.7530213422473644\n",
      "0.7505624718764062\n"
     ]
    }
   ],
   "source": [
    "print(tree.score(X_train, y_train)) \n",
    "print(tree.score(X_test, y_test))"
   ]
  },
  {
   "cell_type": "code",
   "execution_count": 125,
   "metadata": {},
   "outputs": [
    {
     "name": "stdout",
     "output_type": "stream",
     "text": [
      "['U' 'F' 'M' 0]\n",
      "0        2\n",
      "1        2\n",
      "2        0\n",
      "3        1\n",
      "4        0\n",
      "        ..\n",
      "22218    0\n",
      "22219    2\n",
      "22220    0\n",
      "22221    0\n",
      "22222    2\n",
      "Name: DemGender_LE, Length: 22223, dtype: int32\n"
     ]
    }
   ],
   "source": [
    "from sklearn.preprocessing import LabelEncoder\n",
    "le = LabelEncoder()\n",
    "df['DemGender'] = df['DemGender'].replace(0, 'U')\n",
    "le.fit(df['DemGender'])\n",
    "df['DemGender_LE'] = le.transform(df['DemGender'].astype(str))\n",
    "print(df['DemGender_LE'])"
   ]
  },
  {
   "cell_type": "code",
   "execution_count": 126,
   "metadata": {},
   "outputs": [
    {
     "name": "stdout",
     "output_type": "stream",
     "text": [
      "0        2\n",
      "1        3\n",
      "2        3\n",
      "3        5\n",
      "4        0\n",
      "        ..\n",
      "22218    1\n",
      "22219    3\n",
      "22220    1\n",
      "22221    1\n",
      "22222    5\n",
      "Name: DemClusterGroup_LE, Length: 22223, dtype: int32\n"
     ]
    }
   ],
   "source": [
    "from sklearn.preprocessing import LabelEncoder\n",
    "le = LabelEncoder()\n",
    "df['DemClusterGroup'] = df['DemClusterGroup'].replace(0, 'U')\n",
    "le.fit(df['DemClusterGroup'])\n",
    "df['DemClusterGroup_LE'] = le.transform(df['DemClusterGroup'].astype(str))\n",
    "print(df['DemClusterGroup_LE'])"
   ]
  },
  {
   "cell_type": "code",
   "execution_count": 56,
   "metadata": {},
   "outputs": [
    {
     "name": "stdout",
     "output_type": "stream",
     "text": [
      "0        0\n",
      "1        0\n",
      "2        0\n",
      "3        0\n",
      "4        0\n",
      "        ..\n",
      "22216    3\n",
      "22218    3\n",
      "22219    3\n",
      "22220    1\n",
      "22221    1\n",
      "Name: DemReg_LE, Length: 16408, dtype: int32\n"
     ]
    }
   ],
   "source": [
    "\n",
    "from sklearn.preprocessing import LabelEncoder\n",
    "le = LabelEncoder()\n",
    "df['DemReg'] = df['DemReg'].replace(0, 'Unknown')\n",
    "le.fit(df['DemReg'])\n",
    "df['DemReg_LE'] = le.transform(df['DemReg'])\n",
    "print(df['DemReg_LE'])"
   ]
  },
  {
   "cell_type": "code",
   "execution_count": 57,
   "metadata": {},
   "outputs": [
    {
     "name": "stdout",
     "output_type": "stream",
     "text": [
      "0        10\n",
      "1        10\n",
      "2        10\n",
      "3         4\n",
      "4         4\n",
      "         ..\n",
      "22216     3\n",
      "22218     3\n",
      "22219     8\n",
      "22220    11\n",
      "22221     7\n",
      "Name: DemTVReg_LE, Length: 16408, dtype: int32\n"
     ]
    }
   ],
   "source": [
    "from sklearn.preprocessing import LabelEncoder\n",
    "le = LabelEncoder()\n",
    "df['DemTVReg'] = df['DemTVReg'].replace(0, 'Unknown')\n",
    "le.fit(df['DemTVReg'])\n",
    "df['DemTVReg_LE'] = le.transform(df['DemTVReg'])\n",
    "print(df['DemTVReg_LE'])"
   ]
  },
  {
   "cell_type": "code",
   "execution_count": 59,
   "metadata": {},
   "outputs": [
    {
     "name": "stdout",
     "output_type": "stream",
     "text": [
      "0        0\n",
      "1        0\n",
      "2        2\n",
      "3        3\n",
      "4        3\n",
      "        ..\n",
      "22216    2\n",
      "22218    2\n",
      "22219    0\n",
      "22220    0\n",
      "22221    2\n",
      "Name: PromClass_LE, Length: 16408, dtype: int32\n"
     ]
    }
   ],
   "source": [
    "from sklearn.preprocessing import LabelEncoder\n",
    "le = LabelEncoder()\n",
    "le.fit(df['PromClass'])\n",
    "df['PromClass_LE'] = le.transform(df['PromClass'])\n",
    "print(df['PromClass_LE'])"
   ]
  },
  {
   "cell_type": "code",
   "execution_count": 60,
   "metadata": {},
   "outputs": [
    {
     "name": "stdout",
     "output_type": "stream",
     "text": [
      "0        0\n",
      "1        0\n",
      "2        1\n",
      "3        1\n",
      "4        0\n",
      "        ..\n",
      "22216    0\n",
      "22218    0\n",
      "22219    0\n",
      "22220    0\n",
      "22221    0\n",
      "Name: TargetBuy_LE, Length: 16408, dtype: int64\n"
     ]
    }
   ],
   "source": [
    "from sklearn.preprocessing import LabelEncoder\n",
    "le = LabelEncoder()\n",
    "le.fit(df['TargetBuy'])\n",
    "df['TargetBuy_LE'] = le.transform(df['TargetBuy'])\n",
    "print(df['TargetBuy_LE'])"
   ]
  }
 ],
 "metadata": {
  "kernelspec": {
   "display_name": "Python 3",
   "language": "python",
   "name": "python3"
  },
  "language_info": {
   "codemirror_mode": {
    "name": "ipython",
    "version": 3
   },
   "file_extension": ".py",
   "mimetype": "text/x-python",
   "name": "python",
   "nbconvert_exporter": "python",
   "pygments_lexer": "ipython3",
   "version": "3.7.4"
  }
 },
 "nbformat": 4,
 "nbformat_minor": 2
}
