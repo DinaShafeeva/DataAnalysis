{
 "cells": [
  {
   "cell_type": "markdown",
   "metadata": {},
   "source": [
    "# Machine Learning\n",
    "\n",
    "*Лектор: Екатерина Лобачева*\n",
    "\n",
    "*Факультет экономических наук НИУ ВШЭ, 2017-18 учебный год*\n",
    "\n",
    "[Страница курса](http://wiki.cs.hse.ru/Машинное_обучение_(факультет_экономических_наук%29)"
   ]
  },
  {
   "cell_type": "markdown",
   "metadata": {},
   "source": [
    "## Домашнее задание №1\n",
    "Задание основано на материалах курса [Data analysis (Software Engineering)](http://wiki.cs.hse.ru/Data_analysis_(Software_Engineering%29) (ФКН НИУ ВШЭ).\n",
    "\n",
    "Вам необходимо анализировать набор данных [adult.data](http://archive.ics.uci.edu/ml/datasets/Adult) (источник: UCI Machine Learning Repository) с помощью Python, pandas, numpy, scipy.\n",
    "\n",
    "Чтобы выполнить работу, скачайте настоящий ipynb-файл, откройте его в *Jupyter Notebook*, впишите решения в оставленные для этого ячейки (при необходимости можно добавлять новые ячейки), приводя полный работающий код, а также все необходимые пояснения и ответы (для этого нужно использовать markdown-ячейки). Вы можете вставлять формулы с помощью TeX-разметки в markdown-ячейки. После выполнения работы необходимо вытащить ipynb-файл из Jupyter (например, с помощью *File → Download as… → IPython Notebook*).\n",
    "\n",
    "**Подсказка.** Файл [adult.data](http://archive.ics.uci.edu/ml/machine-learning-databases/adult/adult.data) является CSV-файлом, но в нём отсутствуют имена переменных — они (вместе с описаниями) приводятся в отдельном файле [adult.names](http://archive.ics.uci.edu/ml/machine-learning-databases/adult/adult.names). При загрузке датафрейма с помощью `pd.read_csv` используйте параметры `header=None` (чтобы первая строка не воспринималась как строка с именами переменных) и `names=[\"age\", \"workclass\", \"fnlwgt\", \"education\", \"education-num\", \"marital-status\", \"occupation\", \"relationship\", \"race\", \"sex\", \"capital-gain\", \"capital-loss\", \"hours-per-week\", \"native-country\", \"50K\"]`. Чтобы убрать лишние пробелы после запятых, которые есть в файле, следует добавить опцию `skipinitialspace=True`."
   ]
  },
  {
   "cell_type": "markdown",
   "metadata": {},
   "source": [
    "### Вопрос 1\n",
    "Сколько мужчин и женщин в выборке?"
   ]
  },
  {
   "cell_type": "code",
   "execution_count": 49,
   "metadata": {
    "scrolled": true
   },
   "outputs": [
    {
     "name": "stdout",
     "output_type": "stream",
     "text": [
      "       age         workclass  fnlwgt   education  education-num  \\\n",
      "0       39         State-gov   77516   Bachelors             13   \n",
      "1       50  Self-emp-not-inc   83311   Bachelors             13   \n",
      "2       38           Private  215646     HS-grad              9   \n",
      "3       53           Private  234721        11th              7   \n",
      "4       28           Private  338409   Bachelors             13   \n",
      "...    ...               ...     ...         ...            ...   \n",
      "32556   27           Private  257302  Assoc-acdm             12   \n",
      "32557   40           Private  154374     HS-grad              9   \n",
      "32558   58           Private  151910     HS-grad              9   \n",
      "32559   22           Private  201490     HS-grad              9   \n",
      "32560   52      Self-emp-inc  287927     HS-grad              9   \n",
      "\n",
      "           marital-status         occupation   relationship   race     sex  \\\n",
      "0           Never-married       Adm-clerical  Not-in-family  White    Male   \n",
      "1      Married-civ-spouse    Exec-managerial        Husband  White    Male   \n",
      "2                Divorced  Handlers-cleaners  Not-in-family  White    Male   \n",
      "3      Married-civ-spouse  Handlers-cleaners        Husband  Black    Male   \n",
      "4      Married-civ-spouse     Prof-specialty           Wife  Black  Female   \n",
      "...                   ...                ...            ...    ...     ...   \n",
      "32556  Married-civ-spouse       Tech-support           Wife  White  Female   \n",
      "32557  Married-civ-spouse  Machine-op-inspct        Husband  White    Male   \n",
      "32558             Widowed       Adm-clerical      Unmarried  White  Female   \n",
      "32559       Never-married       Adm-clerical      Own-child  White    Male   \n",
      "32560  Married-civ-spouse    Exec-managerial           Wife  White  Female   \n",
      "\n",
      "       capital-gain  capital-loss  hours-per-week native-country    50K  \n",
      "0              2174             0              40  United-States  <=50K  \n",
      "1                 0             0              13  United-States  <=50K  \n",
      "2                 0             0              40  United-States  <=50K  \n",
      "3                 0             0              40  United-States  <=50K  \n",
      "4                 0             0              40           Cuba  <=50K  \n",
      "...             ...           ...             ...            ...    ...  \n",
      "32556             0             0              38  United-States  <=50K  \n",
      "32557             0             0              40  United-States   >50K  \n",
      "32558             0             0              40  United-States  <=50K  \n",
      "32559             0             0              20  United-States  <=50K  \n",
      "32560         15024             0              40  United-States   >50K  \n",
      "\n",
      "[32561 rows x 15 columns]\n"
     ]
    },
    {
     "data": {
      "text/plain": [
       "Male      21790\n",
       "Female    10771\n",
       "Name: sex, dtype: int64"
      ]
     },
     "execution_count": 49,
     "metadata": {},
     "output_type": "execute_result"
    }
   ],
   "source": [
    "import pandas as pd\n",
    "import numpy as np\n",
    "\n",
    "pass_data = pd.read_csv('http://archive.ics.uci.edu/ml/machine-learning-databases/adult/adult.data',header=None, sep=',',skipinitialspace=True, names=[\"age\", \"workclass\", \"fnlwgt\", \"education\", \"education-num\", \"marital-status\", \"occupation\", \"relationship\", \"race\", \"sex\", \"capital-gain\", \"capital-loss\", \"hours-per-week\", \"native-country\", \"50K\"])\n",
    "print(pass_data)\n",
    "pass_data['sex'].value_counts()\n"
   ]
  },
  {
   "cell_type": "markdown",
   "metadata": {},
   "source": [
    "### Вопрос 2\n",
    "Каков средний возраст мужчин?\n"
   ]
  },
  {
   "cell_type": "code",
   "execution_count": 54,
   "metadata": {},
   "outputs": [
    {
     "name": "stdout",
     "output_type": "stream",
     "text": [
      "39.43354749885268\n"
     ]
    }
   ],
   "source": [
    "value = pass_data[pass_data['sex']=='Male']['age'].mean()\n",
    "print(value)"
   ]
  },
  {
   "cell_type": "markdown",
   "metadata": {},
   "source": [
    "### Вопрос 3\n",
    "Какова доля граждан США?"
   ]
  },
  {
   "cell_type": "code",
   "execution_count": 86,
   "metadata": {},
   "outputs": [
    {
     "name": "stdout",
     "output_type": "stream",
     "text": [
      "0.895857006848684\n"
     ]
    }
   ],
   "source": [
    "value = (len(pass_data[pass_data['native-country']=='United-States']))/(len(pass_data))\n",
    "print(value)"
   ]
  },
  {
   "cell_type": "markdown",
   "metadata": {},
   "source": [
    "### Вопрос 4\n",
    "Нарисовать распределение уровня образования в виде столбчатой диаграммы (bar plot)."
   ]
  },
  {
   "cell_type": "code",
   "execution_count": 100,
   "metadata": {},
   "outputs": [
    {
     "data": {
      "image/png": "[encoded data removed]",
      "text/plain": [
       "<Figure size 864x288 with 1 Axes>"
      ]
     },
     "metadata": {
      "needs_background": "light"
     },
     "output_type": "display_data"
    }
   ],
   "source": [
    "import numpy as np\n",
    "import matplotlib\n",
    "import matplotlib.pyplot as plt\n",
    "\n",
    "x = pass_data['native-country']\n",
    "y = pass_data['education-num']\n",
    "\n",
    "fig, ax = plt.subplots()\n",
    "\n",
    "ax.bar(x, y)\n",
    "\n",
    "fig.set_figwidth(12)\n",
    "fig.set_figheight(4)\n",
    "\n",
    "plt.show()"
   ]
  },
  {
   "cell_type": "markdown",
   "metadata": {},
   "source": [
    "### Вопрос 5\n",
    "Найти среднее и стандартное отклонение переменной \"final weight\" (fnlwgt) для разведённых людей?"
   ]
  },
  {
   "cell_type": "code",
   "execution_count": 66,
   "metadata": {},
   "outputs": [
    {
     "name": "stdout",
     "output_type": "stream",
     "text": [
      "fnlwgt    189778.366512\n",
      "dtype: float64\n",
      "fnlwgt    105549.977697\n",
      "dtype: float64\n"
     ]
    }
   ],
   "source": [
    "x = pass_data[['fnlwgt']].mean()\n",
    "print(x)\n",
    "y= pass_data[['fnlwgt']].std()\n",
    "print(y) "
   ]
  },
  {
   "cell_type": "markdown",
   "metadata": {},
   "source": [
    "### Вопрос 6\n",
    "Правда ли, что люди, зарабатывающие более 50 тыс. в основном имеют высшее образование?"
   ]
  },
  {
   "cell_type": "code",
   "execution_count": 99,
   "metadata": {
    "scrolled": true
   },
   "outputs": [
    {
     "name": "stdout",
     "output_type": "stream",
     "text": [
      "True\n"
     ]
    }
   ],
   "source": [
    "data = pass_data[pass_data['50K'] == '>50K']\n",
    "education_data = data[(data['education'] == 'Bachelors')|(data['education'] == 'Masters')|(data['education'] == 'Some-college')|(data['education'] == 'HS-grad')|(data['education'] == 'Assoc-acdm')|(data['education'] == 'Assoc-voc')|(data['education'] == 'Doctorate')]\n",
    "check = len(education_data['education']) / len(data['50K'])\n",
    "print(check > 0.5)\n"
   ]
  },
  {
   "cell_type": "markdown",
   "metadata": {},
   "source": [
    "### Вопрос 7\n",
    "Каков максимальный возраст мужчин и женщин каждой расы?"
   ]
  },
  {
   "cell_type": "code",
   "execution_count": 68,
   "metadata": {},
   "outputs": [
    {
     "name": "stdout",
     "output_type": "stream",
     "text": [
      "race\n",
      "Amer-Indian-Eskimo    80\n",
      "Asian-Pac-Islander    75\n",
      "Black                 90\n",
      "Other                 74\n",
      "White                 90\n",
      "Name: age, dtype: int64\n",
      "race\n",
      "Amer-Indian-Eskimo    82\n",
      "Asian-Pac-Islander    90\n",
      "Black                 90\n",
      "Other                 77\n",
      "White                 90\n",
      "Name: age, dtype: int64\n"
     ]
    }
   ],
   "source": [
    "female=pass_data[pass_data['sex']=='Female']\n",
    "male=pass_data[pass_data['sex']=='Male']\n",
    "print(female.groupby(['race'])['age'].max())\n",
    "print(male.groupby(['race'])['age'].max())"
   ]
  },
  {
   "cell_type": "markdown",
   "metadata": {},
   "source": [
    "### Вопрос 8\n",
    "Люди из каких стран работают как фермеры/рыбаки?"
   ]
  },
  {
   "cell_type": "code",
   "execution_count": 56,
   "metadata": {},
   "outputs": [
    {
     "name": "stdout",
     "output_type": "stream",
     "text": [
      "16       United-States\n",
      "255           Cambodia\n",
      "500             Poland\n",
      "771          Guatemala\n",
      "861             Mexico\n",
      "2353           England\n",
      "3532                 ?\n",
      "6006       Philippines\n",
      "6559             Italy\n",
      "8551       Puerto-Rico\n",
      "11271          Vietnam\n",
      "12621          Germany\n",
      "15177            Japan\n",
      "16486           Canada\n",
      "20549       Yugoslavia\n",
      "21145             Cuba\n",
      "22391         Portugal\n",
      "25761      El-Salvador\n",
      "25943             Hong\n",
      "28654          Ireland\n",
      "29466           France\n",
      "Name: native-country, dtype: object\n"
     ]
    }
   ],
   "source": [
    "df = pass_data[pass_data['occupation']=='Farming-fishing']\n",
    "df = df.drop_duplicates('native-country')\n",
    "print(df['native-country'])"
   ]
  },
  {
   "cell_type": "markdown",
   "metadata": {},
   "source": [
    "### Вопрос 9\n",
    "Рассмотрим два отношения 1) количество мужчин-бакалавров к количеству мужчин-магистров и 2) количество женщин-бакалавров к количеству женщин-магистров. Какое отношение больше?\n"
   ]
  },
  {
   "cell_type": "code",
   "execution_count": 110,
   "metadata": {},
   "outputs": [
    {
     "name": "stdout",
     "output_type": "stream",
     "text": [
      "male\n"
     ]
    }
   ],
   "source": [
    "male_bach = len(pass_data[(pass_data['sex']==\"Male\")&(pass_data['education']=='Bachelors')])\n",
    "male_mag = len(pass_data[(pass_data['sex']==\"Male\")&(pass_data['education']=='Masters')])\n",
    "male_ratio = male_bach/male_mag\n",
    "female_bach = len(pass_data[(pass_data['sex']==\"Female\")&(pass_data['education']=='Bachelors')])\n",
    "female_mag = len(pass_data[(pass_data['sex']==\"Female\")&(pass_data['education']=='Masters')])\n",
    "female_ratio = female_bach/female_mag\n",
    "if male_ratio>female_ratio:\n",
    "    print('male')\n",
    "else:\n",
    "    print('female')"
   ]
  },
  {
   "cell_type": "markdown",
   "metadata": {},
   "source": [
    "### Вопрос 10\n",
    "Каково максимальное количество рабочих часов в неделю? Как много людей работают столько часов в неделю? Каков их заработок?"
   ]
  },
  {
   "cell_type": "code",
   "execution_count": 91,
   "metadata": {},
   "outputs": [
    {
     "name": "stdout",
     "output_type": "stream",
     "text": [
      "hours-per-week    99\n",
      "dtype: int64\n",
      "85\n",
      "935       >50K\n",
      "1172      >50K\n",
      "1887      >50K\n",
      "3578      >50K\n",
      "4086     <=50K\n",
      "         ...  \n",
      "30992    <=50K\n",
      "31681     >50K\n",
      "31699    <=50K\n",
      "32469    <=50K\n",
      "32531    <=50K\n",
      "Name: 50K, Length: 85, dtype: object\n"
     ]
    }
   ],
   "source": [
    "hours = pass_data[['hours-per-week']].max()\n",
    "print(hours)\n",
    "x = len(pass_data[pass_data['hours-per-week']==99])\n",
    "print(x)\n",
    "salary = pass_data[pass_data['hours-per-week']==99]['50K']\n",
    "print(salary)"
   ]
  }
 ],
 "metadata": {
  "kernelspec": {
   "display_name": "Python 3",
   "language": "python",
   "name": "python3"
  },
  "language_info": {
   "codemirror_mode": {
    "name": "ipython",
    "version": 3
   },
   "file_extension": ".py",
   "mimetype": "text/x-python",
   "name": "python",
   "nbconvert_exporter": "python",
   "pygments_lexer": "ipython3",
   "version": "3.7.4"
  },
  "toc": {
   "toc_cell": false,
   "toc_number_sections": false,
   "toc_threshold": 6,
   "toc_window_display": false
  }
 },
 "nbformat": 4,
 "nbformat_minor": 1
}
