{
 "cells": [
  {
   "cell_type": "code",
   "execution_count": 4,
   "metadata": {},
   "outputs": [],
   "source": [
    "from __future__ import division, print_function\n",
    "import warnings\n",
    "import pandas as pd\n",
    "import numpy as np\n",
    "warnings.filterwarnings('ignore')\n",
    "%matplotlib inline\n",
    "from matplotlib import pyplot as plt\n",
    "plt.style.use('ggplot')\n",
    "plt.rcParams['figure.figsize'] = 10, 6\n",
    "import seaborn as sns\n",
    "from sklearn.ensemble import RandomForestRegressor, RandomForestClassifier\n",
    "from sklearn.ensemble import BaggingClassifier, BaggingRegressor\n",
    "from sklearn.tree import DecisionTreeRegressor, DecisionTreeClassifier\n",
    "from sklearn.datasets import make_circles\n",
    "from sklearn.model_selection import train_test_split"
   ]
  },
  {
   "cell_type": "code",
   "execution_count": 5,
   "metadata": {},
   "outputs": [
    {
     "data": {
      "text/html": [
       "<div>\n",
       "<style scoped>\n",
       "    .dataframe tbody tr th:only-of-type {\n",
       "        vertical-align: middle;\n",
       "    }\n",
       "\n",
       "    .dataframe tbody tr th {\n",
       "        vertical-align: top;\n",
       "    }\n",
       "\n",
       "    .dataframe thead th {\n",
       "        text-align: right;\n",
       "    }\n",
       "</style>\n",
       "<table border=\"1\" class=\"dataframe\">\n",
       "  <thead>\n",
       "    <tr style=\"text-align: right;\">\n",
       "      <th></th>\n",
       "      <th>ID</th>\n",
       "      <th>DemAffl</th>\n",
       "      <th>DemAge</th>\n",
       "      <th>DemCluster</th>\n",
       "      <th>DemClusterGroup</th>\n",
       "      <th>DemGender</th>\n",
       "      <th>DemReg</th>\n",
       "      <th>DemTVReg</th>\n",
       "      <th>PromClass</th>\n",
       "      <th>PromSpend</th>\n",
       "      <th>PromTime</th>\n",
       "      <th>TargetBuy</th>\n",
       "      <th>TargetAmt</th>\n",
       "    </tr>\n",
       "  </thead>\n",
       "  <tbody>\n",
       "    <tr>\n",
       "      <td>0</td>\n",
       "      <td>140</td>\n",
       "      <td>10.0</td>\n",
       "      <td>76.0</td>\n",
       "      <td>16.0</td>\n",
       "      <td>C</td>\n",
       "      <td>U</td>\n",
       "      <td>Midlands</td>\n",
       "      <td>Wales &amp; West</td>\n",
       "      <td>Gold</td>\n",
       "      <td>16000.00</td>\n",
       "      <td>4.0</td>\n",
       "      <td>0</td>\n",
       "      <td>0</td>\n",
       "    </tr>\n",
       "    <tr>\n",
       "      <td>1</td>\n",
       "      <td>620</td>\n",
       "      <td>4.0</td>\n",
       "      <td>49.0</td>\n",
       "      <td>35.0</td>\n",
       "      <td>D</td>\n",
       "      <td>U</td>\n",
       "      <td>Midlands</td>\n",
       "      <td>Wales &amp; West</td>\n",
       "      <td>Gold</td>\n",
       "      <td>6000.00</td>\n",
       "      <td>5.0</td>\n",
       "      <td>0</td>\n",
       "      <td>0</td>\n",
       "    </tr>\n",
       "    <tr>\n",
       "      <td>2</td>\n",
       "      <td>868</td>\n",
       "      <td>5.0</td>\n",
       "      <td>70.0</td>\n",
       "      <td>27.0</td>\n",
       "      <td>D</td>\n",
       "      <td>F</td>\n",
       "      <td>Midlands</td>\n",
       "      <td>Wales &amp; West</td>\n",
       "      <td>Silver</td>\n",
       "      <td>0.02</td>\n",
       "      <td>8.0</td>\n",
       "      <td>1</td>\n",
       "      <td>1</td>\n",
       "    </tr>\n",
       "    <tr>\n",
       "      <td>3</td>\n",
       "      <td>1120</td>\n",
       "      <td>10.0</td>\n",
       "      <td>65.0</td>\n",
       "      <td>51.0</td>\n",
       "      <td>F</td>\n",
       "      <td>M</td>\n",
       "      <td>Midlands</td>\n",
       "      <td>Midlands</td>\n",
       "      <td>Tin</td>\n",
       "      <td>0.01</td>\n",
       "      <td>7.0</td>\n",
       "      <td>1</td>\n",
       "      <td>1</td>\n",
       "    </tr>\n",
       "    <tr>\n",
       "      <td>4</td>\n",
       "      <td>2313</td>\n",
       "      <td>11.0</td>\n",
       "      <td>68.0</td>\n",
       "      <td>4.0</td>\n",
       "      <td>A</td>\n",
       "      <td>F</td>\n",
       "      <td>Midlands</td>\n",
       "      <td>Midlands</td>\n",
       "      <td>Tin</td>\n",
       "      <td>0.01</td>\n",
       "      <td>8.0</td>\n",
       "      <td>0</td>\n",
       "      <td>0</td>\n",
       "    </tr>\n",
       "  </tbody>\n",
       "</table>\n",
       "</div>"
      ],
      "text/plain": [
       "     ID  DemAffl  DemAge  DemCluster DemClusterGroup DemGender    DemReg  \\\n",
       "0   140     10.0    76.0        16.0               C         U  Midlands   \n",
       "1   620      4.0    49.0        35.0               D         U  Midlands   \n",
       "2   868      5.0    70.0        27.0               D         F  Midlands   \n",
       "3  1120     10.0    65.0        51.0               F         M  Midlands   \n",
       "4  2313     11.0    68.0         4.0               A         F  Midlands   \n",
       "\n",
       "       DemTVReg PromClass  PromSpend  PromTime  TargetBuy  TargetAmt  \n",
       "0  Wales & West      Gold   16000.00       4.0          0          0  \n",
       "1  Wales & West      Gold    6000.00       5.0          0          0  \n",
       "2  Wales & West    Silver       0.02       8.0          1          1  \n",
       "3      Midlands       Tin       0.01       7.0          1          1  \n",
       "4      Midlands       Tin       0.01       8.0          0          0  "
      ]
     },
     "execution_count": 5,
     "metadata": {},
     "output_type": "execute_result"
    }
   ],
   "source": [
    "data = pd.read_csv('C:/Users/Len/Downloads/DATA-ANALYSYS_2-master (1)/DATA-ANALYSYS_2-master/Dataset/ORGANICS.csv', delimiter=',')\n",
    "data.head()"
   ]
  },
  {
   "cell_type": "code",
   "execution_count": 6,
   "metadata": {},
   "outputs": [
    {
     "name": "stdout",
     "output_type": "stream",
     "text": [
      "<class 'pandas.core.frame.DataFrame'>\n",
      "RangeIndex: 22223 entries, 0 to 22222\n",
      "Data columns (total 13 columns):\n",
      "ID                 22223 non-null int64\n",
      "DemAffl            22223 non-null float64\n",
      "DemAge             22223 non-null float64\n",
      "DemCluster         22223 non-null float64\n",
      "DemClusterGroup    21549 non-null object\n",
      "DemGender          19711 non-null object\n",
      "DemReg             21758 non-null object\n",
      "DemTVReg           21758 non-null object\n",
      "PromClass          22223 non-null object\n",
      "PromSpend          22223 non-null float64\n",
      "PromTime           22223 non-null float64\n",
      "TargetBuy          22223 non-null int64\n",
      "TargetAmt          22223 non-null int64\n",
      "dtypes: float64(5), int64(3), object(5)\n",
      "memory usage: 2.2+ MB\n"
     ]
    }
   ],
   "source": [
    "mean = data.mean()\n",
    "data = data.fillna(mean)\n",
    "data.info()"
   ]
  },
  {
   "cell_type": "code",
   "execution_count": 8,
   "metadata": {},
   "outputs": [],
   "source": [
    "x=data[['DemAffl',  'DemAge', 'DemCluster', 'PromSpend', 'PromTime']]\n",
    "y=data.values[::,11].astype('float64')"
   ]
  },
  {
   "cell_type": "code",
   "execution_count": 9,
   "metadata": {},
   "outputs": [],
   "source": [
    "X_train, X_test, y_train, y_test = train_test_split(x, y, test_size=0.3)"
   ]
  },
  {
   "cell_type": "code",
   "execution_count": 10,
   "metadata": {},
   "outputs": [],
   "source": [
    "arr_trees = [i for i in range(1, 302, 10)]"
   ]
  },
  {
   "cell_type": "code",
   "execution_count": 14,
   "metadata": {},
   "outputs": [
    {
     "name": "stdout",
     "output_type": "stream",
     "text": [
      "    ntree     score\n",
      "0     1.0  0.709765\n",
      "1    11.0  0.771711\n",
      "2    21.0  0.778161\n",
      "3    31.0  0.772761\n",
      "4    41.0  0.776661\n",
      "5    51.0  0.777111\n",
      "6    61.0  0.779511\n",
      "7    71.0  0.777561\n",
      "8    81.0  0.780261\n",
      "9    91.0  0.780861\n",
      "10  101.0  0.779961\n",
      "11  111.0  0.779511\n",
      "12  121.0  0.781161\n",
      "13  131.0  0.779511\n",
      "14  141.0  0.779961\n",
      "15  151.0  0.779061\n",
      "16  161.0  0.777111\n",
      "17  171.0  0.780861\n",
      "18  181.0  0.781161\n",
      "19  191.0  0.779061\n",
      "20  201.0  0.779811\n",
      "21  211.0  0.780861\n",
      "22  221.0  0.779961\n",
      "23  231.0  0.777411\n",
      "24  241.0  0.780711\n",
      "25  251.0  0.779661\n",
      "26  261.0  0.778761\n",
      "27  271.0  0.777111\n",
      "28  281.0  0.780411\n",
      "29  291.0  0.779061\n",
      "30  301.0  0.781161\n"
     ]
    }
   ],
   "source": [
    "temp_test_acc = pd.DataFrame(columns=['ntree', 'score'])\n",
    "for ntrees in arr_trees:\n",
    "    rfc = BaggingClassifier(n_estimators=ntrees, n_jobs=-1, oob_score=True)\n",
    "    rfc.fit(X_train, y_train)\n",
    "    rfc.score(X_test, y_test)\n",
    "    temp_test_acc = temp_test_acc.append({'ntree': ntrees, 'score': rfc.score(X_test, y_test)}, ignore_index=True)\n",
    "print(temp_test_acc)"
   ]
  },
  {
   "cell_type": "code",
   "execution_count": 15,
   "metadata": {},
   "outputs": [
    {
     "data": {
      "text/plain": [
       "[<matplotlib.lines.Line2D at 0x1f99c310048>]"
      ]
     },
     "execution_count": 15,
     "metadata": {},
     "output_type": "execute_result"
    },
    {
     "data": {
      "image/png": "[encoded data removed]",
      "text/plain": [
       "<Figure size 720x432 with 1 Axes>"
      ]
     },
     "metadata": {},
     "output_type": "display_data"
    }
   ],
   "source": [
    "plt.plot(temp_test_acc['ntree'], temp_test_acc['score'])"
   ]
  },
  {
   "cell_type": "markdown",
   "metadata": {},
   "source": [
    "Можно заметить, что начиная с количества деревьев, равного 21, точность варьируется мужду отметок 0.77 и 0.78, из чего приходим к выводу, что оптимальное число деревьев - 21."
   ]
  },
  {
   "cell_type": "code",
   "execution_count": 25,
   "metadata": {
    "scrolled": false
   },
   "outputs": [
    {
     "name": "stdout",
     "output_type": "stream",
     "text": [
      "    sample     score\n",
      "0      1.0  0.752512\n",
      "1      2.0  0.752512\n",
      "2      3.0  0.752512\n",
      "3      4.0  0.752512\n",
      "4      5.0  0.757012\n",
      "5      6.0  0.783711\n",
      "6      7.0  0.753712\n",
      "7      8.0  0.776511\n",
      "8      9.0  0.781611\n",
      "9     10.0  0.781161\n",
      "10    11.0  0.782811\n",
      "11    12.0  0.791960\n",
      "12    13.0  0.790310\n",
      "13    14.0  0.795860\n",
      "14    15.0  0.789861\n",
      "15    16.0  0.794810\n",
      "16    17.0  0.790910\n",
      "17    18.0  0.787911\n",
      "18    19.0  0.792860\n",
      "19    20.0  0.789261\n",
      "20    21.0  0.793610\n",
      "21    22.0  0.796460\n",
      "22    23.0  0.787911\n",
      "23    24.0  0.793010\n",
      "24    25.0  0.800060\n",
      "25    26.0  0.800510\n",
      "26    27.0  0.799310\n",
      "27    28.0  0.799160\n",
      "28    29.0  0.801410\n"
     ]
    },
    {
     "data": {
      "image/png": "[encoded data removed]",
      "text/plain": [
       "<Figure size 720x432 with 1 Axes>"
      ]
     },
     "metadata": {},
     "output_type": "display_data"
    }
   ],
   "source": [
    "arr = [i for i in range(1, 30)]\n",
    "\n",
    "temp_test_acc = pd.DataFrame(columns=['sample', 'score'])\n",
    "for max_samples in arr:\n",
    "    rfc = BaggingClassifier(n_estimators=100, n_jobs=-1, oob_score=True, max_samples=max_samples)\n",
    "    rfc.fit(X_train, y_train)\n",
    "    rfc.score(X_test, y_test)\n",
    "    temp_test_acc = temp_test_acc.append({'sample': max_samples, 'score': rfc.score(X_test, y_test)}, ignore_index=True)\n",
    "    \n",
    "plt.plot(temp_test_acc['sample'], temp_test_acc['score'])\n",
    "print(temp_test_acc)"
   ]
  },
  {
   "cell_type": "markdown",
   "metadata": {},
   "source": [
    "Видно, что с увеличением размера выборки точность повышается."
   ]
  }
 ],
 "metadata": {
  "kernelspec": {
   "display_name": "Python 3",
   "language": "python",
   "name": "python3"
  },
  "language_info": {
   "codemirror_mode": {
    "name": "ipython",
    "version": 3
   },
   "file_extension": ".py",
   "mimetype": "text/x-python",
   "name": "python",
   "nbconvert_exporter": "python",
   "pygments_lexer": "ipython3",
   "version": "3.7.4"
  }
 },
 "nbformat": 4,
 "nbformat_minor": 2
}
